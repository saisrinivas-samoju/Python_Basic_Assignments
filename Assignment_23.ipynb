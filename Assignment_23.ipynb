{
 "cells": [
  {
   "cell_type": "markdown",
   "id": "b2133583",
   "metadata": {},
   "source": [
    "## 1. What is the result of the code, and why?\n",
    "\n",
    "def func(a, b=6, c=8):\n",
    "\n",
    "    print(a, b, c)\n",
    "\n",
    "func(1, 2)\n"
   ]
  },
  {
   "cell_type": "code",
   "execution_count": 1,
   "id": "70b387c5",
   "metadata": {},
   "outputs": [
    {
     "name": "stdout",
     "output_type": "stream",
     "text": [
      "1 2 8\n"
     ]
    }
   ],
   "source": [
    "def func(a, b=6, c=8):\n",
    "    print(a, b, c)\n",
    "\n",
    "func(1, 2)"
   ]
  },
  {
   "cell_type": "code",
   "execution_count": 2,
   "id": "0a8da8c5",
   "metadata": {},
   "outputs": [],
   "source": [
    "Answer = \"\"\"\n",
    "The result of the code is '1 2 8'\n",
    "The function func is taking 3 arguments: a, b, and c\n",
    "a doesn't have any default value\n",
    "b and c has default values 6, 8 respectively.\n",
    "These default values will be used in the function when there is no value assignment to these variables in the function.\n",
    "\n",
    "When calling func(1, 2)\n",
    "a is getting assigned to 1\n",
    "b is getting assigned to 2\n",
    "c is retained it's default value 8\n",
    "Finally printing the values of a, b, and c : 1 2 8\n",
    "\"\"\""
   ]
  },
  {
   "cell_type": "markdown",
   "id": "cc3eaf2e",
   "metadata": {},
   "source": [
    "## 2. What is the result of this code, and why?\n",
    "\n",
    "def func(a, b, c=5):\n",
    "\n",
    "    print(a, b, c)\n",
    "\n",
    "func(1, c=3, b=2)"
   ]
  },
  {
   "cell_type": "code",
   "execution_count": 3,
   "id": "5ae98a2a",
   "metadata": {},
   "outputs": [
    {
     "name": "stdout",
     "output_type": "stream",
     "text": [
      "1 2 3\n"
     ]
    }
   ],
   "source": [
    "def func(a, b, c=5):\n",
    "    print(a, b, c)\n",
    "\n",
    "func(1, c=3, b=2)"
   ]
  },
  {
   "cell_type": "code",
   "execution_count": 4,
   "id": "b0bba610",
   "metadata": {},
   "outputs": [],
   "source": [
    "Answer = \"\"\"\n",
    "The function func is printing the values of a, b, c respectively.\n",
    "\n",
    "The function called as func(1, c=3, b=2)\n",
    "\n",
    "1 is the positional argument of a\n",
    "c is assigned to 3, as it is mentioned as a keyword argument\n",
    "b is assigned to 2, as it is mentioned as a keyword argument.\n",
    "Therefore, for the values of c and b are taken as keyword arguments. not positional arguments.\n",
    "\n",
    "Finally, printing: 1 2 3\n",
    "\"\"\""
   ]
  },
  {
   "cell_type": "markdown",
   "id": "2c3e853f",
   "metadata": {},
   "source": [
    "## 3. How about this code: what is its result, and why?\n",
    "\n",
    "def func(a, *pargs):\n",
    "\n",
    "    print(a, pargs)\n",
    "\n",
    "func(1, 2, 3)\n"
   ]
  },
  {
   "cell_type": "code",
   "execution_count": 5,
   "id": "60768fcb",
   "metadata": {},
   "outputs": [
    {
     "name": "stdout",
     "output_type": "stream",
     "text": [
      "1 (2, 3)\n"
     ]
    }
   ],
   "source": [
    "def func(a, *pargs):\n",
    "    print(a, pargs)\n",
    "\n",
    "func(1, 2, 3)"
   ]
  },
  {
   "cell_type": "code",
   "execution_count": 6,
   "id": "31b660ea",
   "metadata": {},
   "outputs": [],
   "source": [
    "Answer = \"\"\"\n",
    "The function func is taking an argument a, and some no. of positional arguments as pargs\n",
    "These pargs will be a tuple of arguments apart from the argument a, when entered into the function.\n",
    "The function func is printing the first argument a, and the other positional arguments pargs which is a tuple.\n",
    "\n",
    "Therefore, when the function func is called we can see 1 (2, 3) --> which is tuple of any no. of arguments\n",
    "\"\"\""
   ]
  },
  {
   "cell_type": "markdown",
   "id": "fccf0711",
   "metadata": {},
   "source": [
    "## 4. What does this code print, and why?\n",
    "\n",
    "def func(a, **kargs):\n",
    "\n",
    "    print(a, kargs)\n",
    "\n",
    "func(a=1, c=3, b=2)\n"
   ]
  },
  {
   "cell_type": "code",
   "execution_count": 7,
   "id": "4f82cdcb",
   "metadata": {},
   "outputs": [
    {
     "name": "stdout",
     "output_type": "stream",
     "text": [
      "1 {'c': 3, 'b': 2}\n"
     ]
    }
   ],
   "source": [
    "def func(a, **kargs):\n",
    "    print(a, kargs)\n",
    "\n",
    "func(a=1, c=3, b=2)"
   ]
  },
  {
   "cell_type": "code",
   "execution_count": 8,
   "id": "127ec8c4",
   "metadata": {},
   "outputs": [],
   "source": [
    "Answer = \"\"\"\n",
    "The function func is taking one argument 'a' and some no. of keyword arguments.\n",
    "These keyword arguments should only be passed as a value assigned to a variable.\n",
    "These keyword arguments will then be considered as a dictionary when entered inside the function.\n",
    "\n",
    "Therefore, when the fuction is printing it's arguments, we can see the value of 'a' and a dictionary of keyword arguments.\n",
    "\n",
    "1 {'c': 3, 'b': 2}\n",
    "\"\"\""
   ]
  },
  {
   "cell_type": "markdown",
   "id": "37b591eb",
   "metadata": {},
   "source": [
    "## 5. What gets printed by this, and explain?\n",
    "\n",
    "def func(a, b, c=8, d=5): print(a, b, c, d)\n",
    "\n",
    "func(1, *(5, 6))"
   ]
  },
  {
   "cell_type": "code",
   "execution_count": 9,
   "id": "893722f6",
   "metadata": {},
   "outputs": [
    {
     "name": "stdout",
     "output_type": "stream",
     "text": [
      "1 5 6 5\n"
     ]
    }
   ],
   "source": [
    "def func(a, b, c=8, d=5): print(a, b, c, d)\n",
    "\n",
    "func(1, *(5, 6))"
   ]
  },
  {
   "cell_type": "code",
   "execution_count": 10,
   "id": "0901a6c3",
   "metadata": {},
   "outputs": [],
   "source": [
    "Answer = \"\"\"\n",
    "The function func is taking 4 arguments\n",
    "When func(1, *(5, 6)) is called, the first value is assigned to 'a', \n",
    "And the first and second values in the tuple starting * is considered as a set of arguments for the function.\n",
    "These set of arguments are the positional arguments, and as per the positions these values are assigned to b, c respectively.\n",
    "As the function has default value assigned for d by default.\n",
    "\n",
    "Therefore, all the variables in the function are getting their values, and finally printing all those values.\n",
    "\"\"\""
   ]
  },
  {
   "cell_type": "markdown",
   "id": "4c78fe41",
   "metadata": {},
   "source": [
    "## 6. what is the result of this, and explain?\n",
    "\n",
    "def func(a, b, c): a = 2; b[0] = 'x'; c['a'] = 'y'\n",
    "\n",
    "l=1; m=[1]; n={'a':0}\n",
    "\n",
    "func(l, m, n)\n",
    "\n",
    "l, m, n"
   ]
  },
  {
   "cell_type": "code",
   "execution_count": 11,
   "id": "5f1fad71",
   "metadata": {
    "scrolled": true
   },
   "outputs": [
    {
     "data": {
      "text/plain": [
       "(1, ['x'], {'a': 'y'})"
      ]
     },
     "execution_count": 11,
     "metadata": {},
     "output_type": "execute_result"
    }
   ],
   "source": [
    "def func(a, b, c):\n",
    "    a = 2\n",
    "    b[0] = 'x'\n",
    "    c['a'] = 'y'\n",
    "\n",
    "l=1\n",
    "m=[1]\n",
    "n={'a':0}\n",
    "\n",
    "func(l, m, n)\n",
    "\n",
    "l, m, n"
   ]
  },
  {
   "cell_type": "code",
   "execution_count": 12,
   "id": "35132049",
   "metadata": {},
   "outputs": [],
   "source": [
    "Answer = \"\"\"\n",
    "l = 1\n",
    "m = [1]\n",
    "n = {'a':0}\n",
    "These are values assigned until the function func is called.\n",
    "When the function func is called by passing these values.\n",
    "reassignment won't happen to the overall variable.\n",
    "So, when l is reassigned to 2, it is just limited to the function.\n",
    "In the same way, if m and n are also reassigned, those values will be limited to the function func()\n",
    "\n",
    "But, the inside values of the values assigned to these variables are changing in this process.\n",
    "For m, the value present inside the value of m which is a list of integer 1 is changing. That becomes permanent.\n",
    "Similarly, the value inside the value of variable n is changing, which is the dictionary with 'a' as a key. That becomes permanent.\n",
    "\n",
    "Therefore, we don't see any changes to the value of l, but we can see some changes in the values of m, and n.\n",
    "\n",
    "\"\"\""
   ]
  }
 ],
 "metadata": {
  "kernelspec": {
   "display_name": "Python 3 (ipykernel)",
   "language": "python",
   "name": "python3"
  },
  "language_info": {
   "codemirror_mode": {
    "name": "ipython",
    "version": 3
   },
   "file_extension": ".py",
   "mimetype": "text/x-python",
   "name": "python",
   "nbconvert_exporter": "python",
   "pygments_lexer": "ipython3",
   "version": "3.8.12"
  }
 },
 "nbformat": 4,
 "nbformat_minor": 5
}
