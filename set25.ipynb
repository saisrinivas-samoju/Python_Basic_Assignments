{
 "cells": [
  {
   "cell_type": "markdown",
   "id": "d4c9c92a",
   "metadata": {},
   "source": [
    "## 1) . What is the difference between enclosing a list comprehension in square brackets and parentheses?"
   ]
  },
  {
   "cell_type": "markdown",
   "id": "0bf5ad59",
   "metadata": {},
   "source": [
    "* If you enclose a list comprehension with square brackets, the result will be a list.\n",
    "* If you enclose a list comprehension with parentheses, the result will be a generator."
   ]
  },
  {
   "cell_type": "markdown",
   "id": "c327a437",
   "metadata": {},
   "source": [
    "## 2) What is the relationship between generators and iterators?"
   ]
  },
  {
   "cell_type": "markdown",
   "id": "2584daea",
   "metadata": {},
   "source": [
    "* Every generator is an iterator\n",
    "* We can create our own generators using yield keyword\n",
    "* Iterator uses iter() function"
   ]
  },
  {
   "cell_type": "markdown",
   "id": "0b1d31c2",
   "metadata": {},
   "source": [
    "## 3) What are the signs that a function is a generator function?"
   ]
  },
  {
   "cell_type": "markdown",
   "id": "ec33a2a1",
   "metadata": {},
   "source": [
    "* Generator functions look like a normal functions. There is one important syntax difference, that is the 'yield' keyword.\n",
    "* When a generator function is compiled they become an object that supports an iteration protocol."
   ]
  },
  {
   "cell_type": "markdown",
   "id": "e41004e2",
   "metadata": {},
   "source": [
    "## 4) What is the purpose of a yield statement?"
   ]
  },
  {
   "cell_type": "markdown",
   "id": "494784b1",
   "metadata": {},
   "source": [
    "* yield keyword is responsible for the creation of a generator.\n",
    "* yield keyword doesn't return as value. Instead of having to compute an entire series of values up front, it allows the generator to compute one value and then suspends its activity awaiting the next instruction."
   ]
  },
  {
   "cell_type": "markdown",
   "id": "b686d6a8",
   "metadata": {},
   "source": [
    "## 5) What is the relationship between map calls and list comprehensions? Make a comparison and contrast between the two."
   ]
  },
  {
   "cell_type": "markdown",
   "id": "d5bcfeba",
   "metadata": {},
   "source": [
    "* List comprehensions are short and simple compared to map calls.\n",
    "* List comprehensions allow filtering using some if else statements, map calls cannot perform filtering unless it is mentioned in the main function call used by the map function.\n",
    "* The output of a list comprehension is a list, the output of map call is a map object and we need to specify the datatype of the output like tuple or list after that.\n",
    "* map function call is faster than list comprehension operations generally."
   ]
  }
 ],
 "metadata": {
  "kernelspec": {
   "display_name": "Python 3 (ipykernel)",
   "language": "python",
   "name": "python3"
  },
  "language_info": {
   "codemirror_mode": {
    "name": "ipython",
    "version": 3
   },
   "file_extension": ".py",
   "mimetype": "text/x-python",
   "name": "python",
   "nbconvert_exporter": "python",
   "pygments_lexer": "ipython3",
   "version": "3.8.12"
  }
 },
 "nbformat": 4,
 "nbformat_minor": 5
}
