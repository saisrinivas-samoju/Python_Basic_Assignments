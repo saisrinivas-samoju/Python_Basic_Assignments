{
 "cells": [
  {
   "cell_type": "markdown",
   "id": "4d154667",
   "metadata": {},
   "source": [
    "## 1. What is the relationship between def statements and lambda expressions ?"
   ]
  },
  {
   "cell_type": "markdown",
   "id": "a09157fe",
   "metadata": {},
   "source": [
    "* Lambda expression can create a function that is only limited to a single line expression\n",
    "* def statement can create function that can have any no. of lines of code inside it.\n",
    "* lambda is designed for coding simple functions, and def handles the larger tasks."
   ]
  },
  {
   "cell_type": "markdown",
   "id": "53dc2c88",
   "metadata": {},
   "source": [
    "## 2. What is the benefit of lambda?"
   ]
  },
  {
   "cell_type": "markdown",
   "id": "883e410f",
   "metadata": {},
   "source": [
    "* Lambda expressions can be used as anonymous functions\n",
    "* Lambda expressions are easy to read and write."
   ]
  },
  {
   "cell_type": "markdown",
   "id": "e125c680",
   "metadata": {},
   "source": [
    "## 3. Compare and contrast map, filter, and reduce."
   ]
  },
  {
   "cell_type": "markdown",
   "id": "05b69a02",
   "metadata": {},
   "source": [
    "* The map function allows you to \"map\" a function to an iterable object. So, you can quickly call the same function to every item in an iterable, like a list or a tuple.\n",
    "* The filter function returns an iterator yielding those items of iterable for which function(item) is true.\n",
    "* The function reduce(function, sequence) continually applies the function to the sequence. Then, it returns a single value."
   ]
  },
  {
   "cell_type": "markdown",
   "id": "400b5ad2",
   "metadata": {},
   "source": [
    "## 4. What are function annotations, and how are they used?"
   ]
  },
  {
   "cell_type": "markdown",
   "id": "3a8fffec",
   "metadata": {},
   "source": [
    "* Function annotations are a syntax for adding arbitary metadata annotations to python functions.\n",
    "* They are used to mention the datatypes of the function arguments and the return values.\n",
    "* Example is shown below: "
   ]
  },
  {
   "cell_type": "code",
   "execution_count": 2,
   "id": "0bf1500a",
   "metadata": {},
   "outputs": [
    {
     "data": {
      "text/plain": [
       "55"
      ]
     },
     "execution_count": 2,
     "metadata": {},
     "output_type": "execute_result"
    }
   ],
   "source": [
    "def addition(nums: list) -> float:\n",
    "    return sum(nums)\n",
    "\n",
    "addition([1,2,3,4,5,6,7,8,9,10])"
   ]
  },
  {
   "cell_type": "markdown",
   "id": "b9167522",
   "metadata": {},
   "source": [
    "## 5. What are recursive functions, and how are they used?"
   ]
  },
  {
   "cell_type": "markdown",
   "id": "8a9cd86d",
   "metadata": {},
   "source": [
    "* Recursive functions are the functions that call itself until a particular condition mentioned in the function is met.\n",
    "* They can be used when we want a function to loop through it's own generated value."
   ]
  },
  {
   "cell_type": "markdown",
   "id": "374ab353",
   "metadata": {},
   "source": [
    "## 6. What are some general design guidelines for coding functions?"
   ]
  },
  {
   "cell_type": "markdown",
   "id": "f13231de",
   "metadata": {},
   "source": [
    "* Use Camel casing classes\n",
    "* Use snake casing for functions, variables, and methods\n",
    "* Prefer using 4 spaces instead of tabs for indentation\n",
    "* Write the code in such a way that it is compatible with the older versions of python.\n",
    "* When wrapping elements using parenthesis vertically, aligned with opening delimiter.\n",
    "* Hanging indents should have a level of indentation. etc."
   ]
  },
  {
   "cell_type": "markdown",
   "id": "63209e65",
   "metadata": {},
   "source": [
    "## 7. Name three or more ways that functions can communicate results to a caller."
   ]
  },
  {
   "cell_type": "markdown",
   "id": "f168f6e1",
   "metadata": {},
   "source": [
    "* By showing the output of the function\n",
    "* By printing the results of the functions\n",
    "* By saving a file(s) as per the function with the given information"
   ]
  },
  {
   "cell_type": "code",
   "execution_count": null,
   "id": "e7816946",
   "metadata": {},
   "outputs": [],
   "source": []
  }
 ],
 "metadata": {
  "kernelspec": {
   "display_name": "Python 3 (ipykernel)",
   "language": "python",
   "name": "python3"
  },
  "language_info": {
   "codemirror_mode": {
    "name": "ipython",
    "version": 3
   },
   "file_extension": ".py",
   "mimetype": "text/x-python",
   "name": "python",
   "nbconvert_exporter": "python",
   "pygments_lexer": "ipython3",
   "version": "3.8.12"
  }
 },
 "nbformat": 4,
 "nbformat_minor": 5
}
