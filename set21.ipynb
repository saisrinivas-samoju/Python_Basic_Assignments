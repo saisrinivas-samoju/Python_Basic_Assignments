{
 "cells": [
  {
   "cell_type": "markdown",
   "id": "ac70f9a5",
   "metadata": {},
   "source": [
    "### 1. Add the current date to the text file today.txt as a string."
   ]
  },
  {
   "cell_type": "code",
   "execution_count": 1,
   "id": "8ee53b89",
   "metadata": {},
   "outputs": [],
   "source": [
    "import datetime"
   ]
  },
  {
   "cell_type": "code",
   "execution_count": 2,
   "id": "0394879d",
   "metadata": {},
   "outputs": [],
   "source": [
    "with open(\"today.txt\", 'w') as f:\n",
    "    f.write(datetime.date.today().strftime(\"%d/%m/%Y\"))"
   ]
  },
  {
   "cell_type": "markdown",
   "id": "80eacd00",
   "metadata": {},
   "source": [
    "### 2. Read the text file today.txt into the string today_string"
   ]
  },
  {
   "cell_type": "code",
   "execution_count": 3,
   "id": "27c0f5ba",
   "metadata": {},
   "outputs": [],
   "source": [
    "with open(\"today.txt\", 'r') as f:\n",
    "    today_string = f.read()"
   ]
  },
  {
   "cell_type": "code",
   "execution_count": 4,
   "id": "f04bea82",
   "metadata": {},
   "outputs": [
    {
     "data": {
      "text/plain": [
       "'05/03/2022'"
      ]
     },
     "execution_count": 4,
     "metadata": {},
     "output_type": "execute_result"
    }
   ],
   "source": [
    "today_string"
   ]
  },
  {
   "cell_type": "markdown",
   "id": "b6738562",
   "metadata": {},
   "source": [
    "### 3. Parse the date from today_string."
   ]
  },
  {
   "cell_type": "code",
   "execution_count": 5,
   "id": "8bcd3f3b",
   "metadata": {},
   "outputs": [
    {
     "data": {
      "text/plain": [
       "datetime.datetime(2022, 3, 5, 0, 0)"
      ]
     },
     "execution_count": 5,
     "metadata": {},
     "output_type": "execute_result"
    }
   ],
   "source": [
    "datetime.datetime.strptime(today_string, \"%d/%m/%Y\")"
   ]
  },
  {
   "cell_type": "markdown",
   "id": "d4cfa609",
   "metadata": {},
   "source": [
    "### 4. List the files in your current directory"
   ]
  },
  {
   "cell_type": "code",
   "execution_count": 6,
   "id": "203a6280",
   "metadata": {},
   "outputs": [],
   "source": [
    "import os"
   ]
  },
  {
   "cell_type": "code",
   "execution_count": 7,
   "id": "aedc8679",
   "metadata": {},
   "outputs": [
    {
     "data": {
      "text/plain": [
       "['.ipynb_checkpoints',\n",
       " 'Assignment_1.docx',\n",
       " 'Assignment_1.pdf',\n",
       " 'Assignment_10.docx',\n",
       " 'Assignment_10.pdf',\n",
       " 'Assignment_11.docx',\n",
       " 'Assignment_11.pdf',\n",
       " 'Assignment_12.docx',\n",
       " 'Assignment_12.pdf',\n",
       " 'Assignment_13.docx',\n",
       " 'Assignment_13.pdf',\n",
       " 'Assignment_14.docx',\n",
       " 'Assignment_14.pdf',\n",
       " 'Assignment_15.docx',\n",
       " 'Assignment_15.pdf',\n",
       " 'Assignment_16.docx',\n",
       " 'Assignment_16.pdf',\n",
       " 'Assignment_17.docx',\n",
       " 'Assignment_17.ipynb',\n",
       " 'Assignment_18.docx',\n",
       " 'Assignment_18.ipynb',\n",
       " 'Assignment_19.docx',\n",
       " 'Assignment_19.ipynb',\n",
       " 'Assignment_2.docx',\n",
       " 'Assignment_2.pdf',\n",
       " 'Assignment_20.docx',\n",
       " 'Assignment_20.ipynb',\n",
       " 'Assignment_21.docx',\n",
       " 'Assignment_21.ipynb',\n",
       " 'Assignment_22.docx',\n",
       " 'Assignment_23.docx',\n",
       " 'Assignment_24.docx',\n",
       " 'Assignment_25.docx',\n",
       " 'Assignment_3.docx',\n",
       " 'Assignment_3.pdf',\n",
       " 'Assignment_4.docx',\n",
       " 'Assignment_4.pdf',\n",
       " 'Assignment_5.docx',\n",
       " 'Assignment_5.pdf',\n",
       " 'Assignment_6.docx',\n",
       " 'Assignment_6.pdf',\n",
       " 'Assignment_7.docx',\n",
       " 'Assignment_7.pdf',\n",
       " 'Assignment_8.docx',\n",
       " 'Assignment_8.pdf',\n",
       " 'Assignment_9.docx',\n",
       " 'Assignment_9.pdf',\n",
       " 'books.csv',\n",
       " 'books.db',\n",
       " 'books1.csv',\n",
       " 'books1.db',\n",
       " 'test.txt',\n",
       " 'today.txt',\n",
       " 'zoo.py',\n",
       " '__pycache__']"
      ]
     },
     "execution_count": 7,
     "metadata": {},
     "output_type": "execute_result"
    }
   ],
   "source": [
    "os.listdir()"
   ]
  },
  {
   "cell_type": "markdown",
   "id": "4bf5b0aa",
   "metadata": {},
   "source": [
    "### 5. Create a list of all of the files in your parent directory (minimum five files should be available)."
   ]
  },
  {
   "cell_type": "code",
   "execution_count": 8,
   "id": "7d3faa2d",
   "metadata": {},
   "outputs": [
    {
     "data": {
      "text/plain": [
       "['Answers',\n",
       " 'New Text Document.txt',\n",
       " 'Notes.txt',\n",
       " 'Questions',\n",
       " 'Rough notebooks']"
      ]
     },
     "execution_count": 8,
     "metadata": {},
     "output_type": "execute_result"
    }
   ],
   "source": [
    "os.listdir(\"..\")"
   ]
  },
  {
   "cell_type": "markdown",
   "id": "879e7577",
   "metadata": {},
   "source": [
    "### 7. Create a date object of your day of birth."
   ]
  },
  {
   "cell_type": "code",
   "execution_count": 9,
   "id": "9be5adf7",
   "metadata": {},
   "outputs": [],
   "source": [
    "birthday = datetime.datetime(1996, 12, 21)"
   ]
  },
  {
   "cell_type": "code",
   "execution_count": 10,
   "id": "b17e0e99",
   "metadata": {},
   "outputs": [
    {
     "data": {
      "text/plain": [
       "21"
      ]
     },
     "execution_count": 10,
     "metadata": {},
     "output_type": "execute_result"
    }
   ],
   "source": [
    "birthday.day"
   ]
  },
  {
   "cell_type": "code",
   "execution_count": 11,
   "id": "64f4827a",
   "metadata": {},
   "outputs": [
    {
     "data": {
      "text/plain": [
       "'21/12/1996'"
      ]
     },
     "execution_count": 11,
     "metadata": {},
     "output_type": "execute_result"
    }
   ],
   "source": [
    "birthday.strftime(\"%d/%m/%Y\")"
   ]
  },
  {
   "cell_type": "markdown",
   "id": "3048a764",
   "metadata": {},
   "source": [
    "### 8. What day of the week was your day of birth?"
   ]
  },
  {
   "cell_type": "code",
   "execution_count": 12,
   "id": "4c6b6489",
   "metadata": {},
   "outputs": [
    {
     "name": "stdout",
     "output_type": "stream",
     "text": [
      "6th day of week starting from Monday\n"
     ]
    }
   ],
   "source": [
    "print(f\"{birthday.weekday() + 1}th day of week starting from Monday\")"
   ]
  },
  {
   "cell_type": "markdown",
   "id": "44d319ba",
   "metadata": {},
   "source": [
    "### 9. When will you be (or when were you) 10,000 days old?"
   ]
  },
  {
   "cell_type": "code",
   "execution_count": 13,
   "id": "3e7262f3",
   "metadata": {},
   "outputs": [],
   "source": [
    "tenk_old = birthday + datetime.timedelta(days=10000)"
   ]
  },
  {
   "cell_type": "code",
   "execution_count": 14,
   "id": "88455fc4",
   "metadata": {},
   "outputs": [
    {
     "name": "stdout",
     "output_type": "stream",
     "text": [
      "I will be 10,000 days old by 08/05/2024\n"
     ]
    }
   ],
   "source": [
    "print(f\"I will be 10,000 days old by {tenk_old.strftime('%d/%m/%Y')}\")"
   ]
  }
 ],
 "metadata": {
  "kernelspec": {
   "display_name": "Python 3 (ipykernel)",
   "language": "python",
   "name": "python3"
  },
  "language_info": {
   "codemirror_mode": {
    "name": "ipython",
    "version": 3
   },
   "file_extension": ".py",
   "mimetype": "text/x-python",
   "name": "python",
   "nbconvert_exporter": "python",
   "pygments_lexer": "ipython3",
   "version": "3.8.12"
  }
 },
 "nbformat": 4,
 "nbformat_minor": 5
}
