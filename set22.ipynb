{
 "cells": [
  {
   "cell_type": "markdown",
   "id": "7caa8a1b",
   "metadata": {},
   "source": [
    "## 1. What is the result of the code, and explain?\n",
    "\n",
    "\n",
    "X = 'iNeuron'\n",
    "\n",
    "def func():\n",
    "\n",
    "    print(X)\n",
    "\n",
    "\n",
    "func()"
   ]
  },
  {
   "cell_type": "code",
   "execution_count": 1,
   "id": "966e6d2d",
   "metadata": {},
   "outputs": [
    {
     "name": "stdout",
     "output_type": "stream",
     "text": [
      "iNeuron\n"
     ]
    }
   ],
   "source": [
    "X = \"iNeuron\"\n",
    "\n",
    "def func():\n",
    "    print(X)\n",
    "    \n",
    "func()"
   ]
  },
  {
   "cell_type": "code",
   "execution_count": 2,
   "id": "3e79b4c7",
   "metadata": {},
   "outputs": [],
   "source": [
    "Answer = \"\"\"\n",
    "the result of the code is a printed statement 'iNeuron'.\n",
    "When the function is called, it takes the variable X if it is present in the local scope,\n",
    "if it is not present in the local scope then it checks for global scope and prints it.\n",
    "\"\"\""
   ]
  },
  {
   "cell_type": "markdown",
   "id": "dd322d11",
   "metadata": {},
   "source": [
    "## 2. What is the result of the code, and explain?\n",
    "\n",
    "\n",
    "X = 'iNeuron'\n",
    "\n",
    "def func():\n",
    "\n",
    "    X = 'NI!'\n",
    "\n",
    "\n",
    "func()\n",
    "\n",
    "print(X)"
   ]
  },
  {
   "cell_type": "code",
   "execution_count": 3,
   "id": "473c638d",
   "metadata": {},
   "outputs": [
    {
     "name": "stdout",
     "output_type": "stream",
     "text": [
      "iNeuron\n"
     ]
    }
   ],
   "source": [
    "X = \"iNeuron\"\n",
    "\n",
    "def func():\n",
    "    X = \"NI!\"\n",
    "    \n",
    "func()\n",
    "\n",
    "print(X)"
   ]
  },
  {
   "cell_type": "code",
   "execution_count": 4,
   "id": "f5ce0f26",
   "metadata": {},
   "outputs": [],
   "source": [
    "Answer = \"\"\"\n",
    "In the above code, X is a global variable, and it is assigned to the string 'iNeuron'\n",
    "When the function call func() called, no reassignment happened to X.\n",
    "When it was called, a variable X local to function func() got an assignment of string 'NI!'\n",
    "When printing the variable X, the global variable X is getting printed. So, we can the string 'iNeuron'\n",
    "\"\"\""
   ]
  },
  {
   "cell_type": "markdown",
   "id": "ac0ff01d",
   "metadata": {},
   "source": [
    "## 3. What does this code print, and why?\n",
    "\n",
    "\n",
    "X = 'iNeuron'\n",
    "\n",
    "def func():\n",
    "\n",
    "    X = 'NI'\n",
    "    \n",
    "    print(X)\n",
    "\n",
    "\n",
    "func()\n",
    "\n",
    "print(X)"
   ]
  },
  {
   "cell_type": "code",
   "execution_count": 5,
   "id": "a28623d1",
   "metadata": {},
   "outputs": [
    {
     "name": "stdout",
     "output_type": "stream",
     "text": [
      "NI!\n",
      "iNeuron\n"
     ]
    }
   ],
   "source": [
    "X = \"iNeuron\"\n",
    "\n",
    "def func():\n",
    "    X = \"NI!\"\n",
    "    print(X)\n",
    "    \n",
    "func()\n",
    "\n",
    "print(X)"
   ]
  },
  {
   "cell_type": "code",
   "execution_count": 6,
   "id": "1884e76c",
   "metadata": {},
   "outputs": [],
   "source": [
    "Answer = \"\"\"\n",
    "In the above code, X = 'iNeuron' is a global variable\n",
    "When the function call func() called, no reassignment happened to global X.\n",
    "When it was called, a variable X local to function func() got an assignment of string 'NI!'\n",
    "When calling the function func(), we could see the printed string X which is local to function func()\n",
    "When printing the variable X, the global variable X is getting printed. And, we can the string 'iNeuron'\n",
    "\"\"\""
   ]
  },
  {
   "cell_type": "markdown",
   "id": "459565c5",
   "metadata": {},
   "source": [
    "## 4. What output does this code produce? Why?\n",
    "\n",
    "\n",
    "X = 'iNeuron'\n",
    "\n",
    "def func():\n",
    "\n",
    "    global X\n",
    "    \n",
    "    X = 'NI'\n",
    "\n",
    "func()\n",
    "\n",
    "print(X)"
   ]
  },
  {
   "cell_type": "code",
   "execution_count": 7,
   "id": "098c184d",
   "metadata": {},
   "outputs": [
    {
     "name": "stdout",
     "output_type": "stream",
     "text": [
      "NI\n"
     ]
    }
   ],
   "source": [
    "X = 'iNeuron'\n",
    "\n",
    "def func():\n",
    "    global X\n",
    "    X = 'NI'\n",
    "\n",
    "func()\n",
    "print(X)"
   ]
  },
  {
   "cell_type": "code",
   "execution_count": 8,
   "id": "998c5733",
   "metadata": {},
   "outputs": [],
   "source": [
    "Answer = \"\"\"\n",
    "In the above code, X = 'iNeuron' is a global variable\n",
    "The function func() is taking the global variable X and reassigning it's value to string 'NI'\n",
    "When function func() is called, the value of X is getting reassigned to \"NI\"\n",
    "And when printing X, we see the reassigned values, as the reassignment of X to 'NI' already happened before printing X.\n",
    "\"\"\""
   ]
  },
  {
   "cell_type": "markdown",
   "id": "ed3c9f34",
   "metadata": {},
   "source": [
    "## 5. What about this code—what’s the output, and why?\n",
    "\n",
    "\n",
    "X = 'iNeuron'\n",
    "\n",
    "def func():\n",
    "\n",
    "    X = 'NI'\n",
    "    \n",
    "    def nested():\n",
    "    \n",
    "        print(X)\n",
    "    \n",
    "    nested()\n",
    "    \n",
    "\n",
    "\n",
    "func()\n",
    "\n",
    "X"
   ]
  },
  {
   "cell_type": "code",
   "execution_count": 9,
   "id": "d09d7cbf",
   "metadata": {},
   "outputs": [
    {
     "name": "stdout",
     "output_type": "stream",
     "text": [
      "NI\n"
     ]
    },
    {
     "data": {
      "text/plain": [
       "'iNeuron'"
      ]
     },
     "execution_count": 9,
     "metadata": {},
     "output_type": "execute_result"
    }
   ],
   "source": [
    "X = 'iNeuron'\n",
    "\n",
    "def func():\n",
    "    X = 'NI'\n",
    "    def nested():\n",
    "        print(X)\n",
    "    nested()\n",
    "\n",
    "func()\n",
    "\n",
    "X"
   ]
  },
  {
   "cell_type": "code",
   "execution_count": 10,
   "id": "0c11c227",
   "metadata": {},
   "outputs": [],
   "source": [
    "Answer = \"\"\"\n",
    "In the above code, X = 'iNeuron' is a global variable\n",
    "When the function func() is called, a local variable X local to the function func() is getting assigned to a string 'NI'\n",
    "This local variable X='NI' is taken by the enclosed nested function, and the nested function prints this value, when called.\n",
    "This nested function is called by the function func. As X for the functions func() and nested() is 'NI'\n",
    "When function func() is called \"NI\" is getting printed.\n",
    "When X is called the global variable X is getting printed which is 'iNeuron'\n",
    "\"\"\""
   ]
  },
  {
   "cell_type": "markdown",
   "id": "b362693e",
   "metadata": {},
   "source": [
    "## 6. How about this code: what is its output in Python 3, and explain?\n",
    "\n",
    "\n",
    "def func():\n",
    "\n",
    "    X = 'NI'\n",
    "    \n",
    "    def nested():\n",
    "    \n",
    "        nonlocal X\n",
    "        \n",
    "        X = 'Spam'\n",
    "        \n",
    "    nested()\n",
    "    \n",
    "    print(X)\n",
    "    \n",
    "\n",
    "func()"
   ]
  },
  {
   "cell_type": "code",
   "execution_count": 11,
   "id": "266d98ea",
   "metadata": {},
   "outputs": [
    {
     "name": "stdout",
     "output_type": "stream",
     "text": [
      "Spam\n"
     ]
    }
   ],
   "source": [
    "def func():\n",
    "    X = 'NI'\n",
    "    def nested():\n",
    "        nonlocal X\n",
    "        X = 'Spam'\n",
    "    nested()\n",
    "    print(X)\n",
    "\n",
    "func()"
   ]
  },
  {
   "cell_type": "code",
   "execution_count": 12,
   "id": "a1e1d46e",
   "metadata": {},
   "outputs": [],
   "source": [
    "Answer = \"\"\"\n",
    "X is local to function func() is getting assigned to 'NI' initially.\n",
    "The nested function taking the value of X which is nonlocal to it. That means, it is taking the value of X local to func()\n",
    "nested function is reassign X value to 'Spam'\n",
    "function func() is called the nested function, and reassignment is happening at this time.\n",
    "finally, function func() is printing the reassigned value of X which is 'Spam'\n",
    "\"\"\""
   ]
  }
 ],
 "metadata": {
  "kernelspec": {
   "display_name": "Python 3 (ipykernel)",
   "language": "python",
   "name": "python3"
  },
  "language_info": {
   "codemirror_mode": {
    "name": "ipython",
    "version": 3
   },
   "file_extension": ".py",
   "mimetype": "text/x-python",
   "name": "python",
   "nbconvert_exporter": "python",
   "pygments_lexer": "ipython3",
   "version": "3.8.12"
  }
 },
 "nbformat": 4,
 "nbformat_minor": 5
}
